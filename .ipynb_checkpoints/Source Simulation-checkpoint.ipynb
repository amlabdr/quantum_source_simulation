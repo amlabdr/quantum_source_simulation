{
 "cells": [
  {
   "cell_type": "markdown",
   "id": "aeafae12",
   "metadata": {},
   "source": [
    "# Source and Detection Simulation\n",
    "## The source node\n",
    "This example will simulate the Quantum source, it will be simulated as a node containing a quantum memory.\n",
    "The quantum memory exists in one of two spin states: spin up (|↑⟩) or down (|↓⟩). When an “excite” operation is applied to the memory, consisting of a short light pulse, a memory in the |↓⟩ state may emit a photon. A memory in the |↑⟩ state will emit no photon. As a quantum device, the memory may also exist in a superposition of states. One example is the |+⟩ = 1/√2(|↑⟩ + |↓⟩) state used in this example, where the memory has an equal probability of being in the up or down spin states with the same phase.\n",
    "\n",
    "We will create Source node to hold the memory and send photons.\n",
    "\n",
    "The required parameters for memories are more numerous and are listed here:\n",
    "\n",
    "    - fidelity: fidelity of entanglement. This is usually set to 0 when unentangled, but can be set to other values as it is usually replaced when entangled.\n",
    "\n",
    "    - frequency: the frequency at which the memory can be excited. A frequency of 0 means that the memory can be excited at infinite frequency.\n",
    "\n",
    "    - efficiency: the probability that the memory will emit a photon when it is supposed to. We set it to 1 here to prevent photon loss.\n",
    "\n",
    "    - coherence_time: the time for which a memory state (other than down) is viable, given in seconds.\n",
    "\n",
    "    - wavelength: the wavelength of emitted photons.\n",
    "\n",
    "\n",
    "The detector is created easily, as no specific parameters are required (but we wish to set the efficiency to 1 to prevent errors).\n",
    "\n",
    "Next, we will add each component to the proper node using the add_component method. This method adds the component to the node’s components dictionary, which maps component names to objects. It may be accessed by outside protocols to monitor components or get their current state. We’ll put the detector on the receiver node, and the memory on the sender node.\n"
   ]
  },
  {
   "cell_type": "code",
   "execution_count": 13,
   "id": "35c61a52",
   "metadata": {},
   "outputs": [],
   "source": [
    "from sequence.kernel.timeline import Timeline\n",
    "from sequence.topology.node import Node\n",
    "from sequence.components.memory import Memory\n",
    "from sequence.components.detector import Detector\n",
    "import logging\n",
    "logger = logging.getLogger()\n",
    "logger.setLevel(logging.DEBUG)\n",
    "\n",
    "class source(Node):\n",
    "    def __init__(self, name, timeline):\n",
    "        super().__init__(name, timeline)\n",
    "        \n",
    "        memory_name = name + \".memory\"\n",
    "        memory = Memory(memory_name, timeline, fidelity=1, frequency=0,\n",
    "                        efficiency=1, coherence_time=0, wavelength=500)\n",
    "        self.add_component(memory)\n",
    "        memory.add_receiver(self)\n",
    "        self.counter = Counter()\n",
    "        memory.attach(self.counter)\n",
    "\n",
    "    def get(self, photon, **kwargs):\n",
    "        self.send_qubit(kwargs['dst'], photon)\n",
    "        \n",
    "class Counter:\n",
    "    def __init__(self):\n",
    "        self.count = 0\n",
    "        self.time = 0\n",
    "\n",
    "    def trigger(self, detector, info):\n",
    "        self.count += 1\n",
    "        self.time = info['time']\n",
    "        \n",
    "class receiver(Node):\n",
    "    def __init__(self, name, timeline):\n",
    "        super().__init__(name, timeline)\n",
    "\n",
    "        detector_name = name + \".detector\"\n",
    "        detector = Detector(detector_name, timeline, efficiency=1)\n",
    "        self.add_component(detector)\n",
    "        self.set_first_component(detector_name)\n",
    "        detector.owner = self\n",
    "\n",
    "        self.counter = Counter()\n",
    "        detector.attach(self.counter)\n",
    "\n",
    "    def receive_qubit(self, src, qubit):\n",
    "        self.components[self.first_component_name].get()\n"
   ]
  },
  {
   "cell_type": "markdown",
   "id": "07e7fc58",
   "metadata": {},
   "source": [
    "## Build the Network.\n",
    "We are now ready to start writing the main function of our script. The first step is to create the simulation timeline. We will use a 10 second run time, but more or less time may be needed depending on hardware parameters. Note that the runtime is given in picoseconds. \n",
    "Then we will need to create the source node by specifying a name and the timeline it belongs to."
   ]
  },
  {
   "cell_type": "code",
   "execution_count": 14,
   "id": "b4fb9d9b",
   "metadata": {},
   "outputs": [
    {
     "name": "stderr",
     "output_type": "stream",
     "text": [
      "INFO:sequence.utils.log:Create Node my_source\n",
      "INFO:sequence.utils.log:Create Node my_detector\n",
      "INFO:sequence.utils.log:Create channel qc\n",
      "INFO:sequence.utils.log:Set my_source my_detector as ends of quantum channel qc\n"
     ]
    }
   ],
   "source": [
    "from sequence.kernel.timeline import Timeline\n",
    "tl = Timeline(10e12) #10 seconds in picosecond\n",
    "\n",
    "my_source = source(\"my_source\",tl)\n",
    "my_detector = receiver(\"my_detector\",tl)\n",
    "#Note that we also set the random generator seed for our node to ensure reproducability.\n",
    "my_source.set_seed(0)\n",
    "my_detector.set_seed(1) \n",
    "\n",
    "#create the quantum channel and note that We won’t need a classical channel,\n",
    "#as we’re not sending any messages between nodes.\n",
    "from sequence.components.optical_channel import QuantumChannel\n",
    "\n",
    "qc = QuantumChannel(\"qc\", tl, attenuation=0, distance=1e3)\n",
    "qc.set_ends(my_source, my_detector.name)"
   ]
  },
  {
   "cell_type": "markdown",
   "id": "dc543049",
   "metadata": {},
   "source": [
    "# Measure the Memory Once\n",
    "With the network built, we are ready to schedule simulation events and run our experiment. The details on scheduling events are covered in Tutorial 1, so we will not focus on them here. Let’s first run one experiment with the memory in the |↑⟩ state and observe the detection time of the single emitted photon. We can obtain the memory object using the Node.get_components_by_type method, which returns a list of matching components on the node. The memory state can then be set with the update_state method."
   ]
  },
  {
   "cell_type": "code",
   "execution_count": 15,
   "id": "fd495f95",
   "metadata": {},
   "outputs": [],
   "source": [
    "memories = my_source.get_components_by_type(\"Memory\")\n",
    "memory = memories[0]\n",
    "memory.update_state([complex(0), complex(1)])"
   ]
  },
  {
   "cell_type": "markdown",
   "id": "b52dea61",
   "metadata": {},
   "source": [
    "We must also schedule an excite event for the memory, which will send a photon to a connected node supplied as an argument (in this case, we’ll use \"node2\"). Let’s put it at time 0:"
   ]
  },
  {
   "cell_type": "code",
   "execution_count": 16,
   "id": "94c09490",
   "metadata": {},
   "outputs": [],
   "source": [
    "from sequence.kernel.process import Process\n",
    "from sequence.kernel.event import Event\n",
    "\n",
    "process = Process(memory, \"excite\", [\"my_detector\"])\n",
    "event = Event(0, process)\n",
    "tl.schedule(event)"
   ]
  },
  {
   "cell_type": "code",
   "execution_count": 17,
   "id": "a2e8f7b0",
   "metadata": {},
   "outputs": [
    {
     "name": "stderr",
     "output_type": "stream",
     "text": [
      "INFO:sequence.utils.log:Timeline initial network\n",
      "INFO:sequence.utils.log:Timeline start simulation\n"
     ]
    },
    {
     "ename": "TypeError",
     "evalue": "Node.send_qubit() missing 1 required positional argument: 'qubit'",
     "output_type": "error",
     "traceback": [
      "\u001b[0;31m---------------------------------------------------------------------------\u001b[0m",
      "\u001b[0;31mTypeError\u001b[0m                                 Traceback (most recent call last)",
      "Input \u001b[0;32mIn [17]\u001b[0m, in \u001b[0;36m<cell line: 2>\u001b[0;34m()\u001b[0m\n\u001b[1;32m      1\u001b[0m tl\u001b[38;5;241m.\u001b[39minit()\n\u001b[0;32m----> 2\u001b[0m \u001b[43mtl\u001b[49m\u001b[38;5;241;43m.\u001b[39;49m\u001b[43mrun\u001b[49m\u001b[43m(\u001b[49m\u001b[43m)\u001b[49m\n\u001b[1;32m      3\u001b[0m \u001b[38;5;28mprint\u001b[39m(\u001b[38;5;124m\"\u001b[39m\u001b[38;5;124msending count: \u001b[39m\u001b[38;5;132;01m{}\u001b[39;00m\u001b[38;5;124m\"\u001b[39m\u001b[38;5;241m.\u001b[39mformat(my_source\u001b[38;5;241m.\u001b[39mcounter\u001b[38;5;241m.\u001b[39mcount))\n\u001b[1;32m      4\u001b[0m \u001b[38;5;28mprint\u001b[39m(\u001b[38;5;124m\"\u001b[39m\u001b[38;5;124mdetection count: \u001b[39m\u001b[38;5;132;01m{}\u001b[39;00m\u001b[38;5;124m\"\u001b[39m\u001b[38;5;241m.\u001b[39mformat(my_detector\u001b[38;5;241m.\u001b[39mcounter\u001b[38;5;241m.\u001b[39mcount))\n",
      "File \u001b[0;32m/Library/Frameworks/Python.framework/Versions/3.10/lib/python3.10/site-packages/sequence/kernel/timeline.py:127\u001b[0m, in \u001b[0;36mTimeline.run\u001b[0;34m(self)\u001b[0m\n\u001b[1;32m    124\u001b[0m         \u001b[38;5;28;01mcontinue\u001b[39;00m\n\u001b[1;32m    126\u001b[0m     \u001b[38;5;28mself\u001b[39m\u001b[38;5;241m.\u001b[39mtime \u001b[38;5;241m=\u001b[39m event\u001b[38;5;241m.\u001b[39mtime\n\u001b[0;32m--> 127\u001b[0m     \u001b[43mevent\u001b[49m\u001b[38;5;241;43m.\u001b[39;49m\u001b[43mprocess\u001b[49m\u001b[38;5;241;43m.\u001b[39;49m\u001b[43mrun\u001b[49m\u001b[43m(\u001b[49m\u001b[43m)\u001b[49m\n\u001b[1;32m    128\u001b[0m     \u001b[38;5;28mself\u001b[39m\u001b[38;5;241m.\u001b[39mrun_counter \u001b[38;5;241m+\u001b[39m\u001b[38;5;241m=\u001b[39m \u001b[38;5;241m1\u001b[39m\n\u001b[1;32m    130\u001b[0m \u001b[38;5;28mself\u001b[39m\u001b[38;5;241m.\u001b[39mis_running \u001b[38;5;241m=\u001b[39m \u001b[38;5;28;01mFalse\u001b[39;00m\n",
      "File \u001b[0;32m/Library/Frameworks/Python.framework/Versions/3.10/lib/python3.10/site-packages/sequence/kernel/process.py:31\u001b[0m, in \u001b[0;36mProcess.run\u001b[0;34m(self)\u001b[0m\n\u001b[1;32m     25\u001b[0m \u001b[38;5;28;01mdef\u001b[39;00m \u001b[38;5;21mrun\u001b[39m(\u001b[38;5;28mself\u001b[39m) \u001b[38;5;241m-\u001b[39m\u001b[38;5;241m>\u001b[39m \u001b[38;5;28;01mNone\u001b[39;00m:\n\u001b[1;32m     26\u001b[0m     \u001b[38;5;124;03m\"\"\"Method to execute process.\u001b[39;00m\n\u001b[1;32m     27\u001b[0m \n\u001b[1;32m     28\u001b[0m \u001b[38;5;124;03m    Will run the `activation_method` method of `owner` with `act_params` passed as args.\u001b[39;00m\n\u001b[1;32m     29\u001b[0m \u001b[38;5;124;03m    \"\"\"\u001b[39;00m\n\u001b[0;32m---> 31\u001b[0m     \u001b[38;5;28;01mreturn\u001b[39;00m \u001b[38;5;28;43mgetattr\u001b[39;49m\u001b[43m(\u001b[49m\u001b[38;5;28;43mself\u001b[39;49m\u001b[38;5;241;43m.\u001b[39;49m\u001b[43mowner\u001b[49m\u001b[43m,\u001b[49m\u001b[43m \u001b[49m\u001b[38;5;28;43mself\u001b[39;49m\u001b[38;5;241;43m.\u001b[39;49m\u001b[43mactivation\u001b[49m\u001b[43m)\u001b[49m\u001b[43m(\u001b[49m\u001b[38;5;241;43m*\u001b[39;49m\u001b[38;5;28;43mself\u001b[39;49m\u001b[38;5;241;43m.\u001b[39;49m\u001b[43mact_params\u001b[49m\u001b[43m,\u001b[49m\u001b[43m \u001b[49m\u001b[38;5;241;43m*\u001b[39;49m\u001b[38;5;241;43m*\u001b[39;49m\u001b[38;5;28;43mself\u001b[39;49m\u001b[38;5;241;43m.\u001b[39;49m\u001b[43mact_kwargs\u001b[49m\u001b[43m)\u001b[49m\n",
      "File \u001b[0;32m/Library/Frameworks/Python.framework/Versions/3.10/lib/python3.10/site-packages/sequence/components/memory.py:192\u001b[0m, in \u001b[0;36mMemory.excite\u001b[0;34m(self, dst)\u001b[0m\n\u001b[1;32m    189\u001b[0m     \u001b[38;5;28mself\u001b[39m\u001b[38;5;241m.\u001b[39mnext_excite_time \u001b[38;5;241m=\u001b[39m \u001b[38;5;28mself\u001b[39m\u001b[38;5;241m.\u001b[39mtimeline\u001b[38;5;241m.\u001b[39mnow() \u001b[38;5;241m+\u001b[39m period\n\u001b[1;32m    191\u001b[0m \u001b[38;5;66;03m# send to receiver\u001b[39;00m\n\u001b[0;32m--> 192\u001b[0m \u001b[38;5;28;43mself\u001b[39;49m\u001b[38;5;241;43m.\u001b[39;49m\u001b[43m_receivers\u001b[49m\u001b[43m[\u001b[49m\u001b[38;5;241;43m0\u001b[39;49m\u001b[43m]\u001b[49m\u001b[38;5;241;43m.\u001b[39;49m\u001b[43mget\u001b[49m\u001b[43m(\u001b[49m\u001b[43mphoton\u001b[49m\u001b[43m,\u001b[49m\u001b[43m \u001b[49m\u001b[43mdst\u001b[49m\u001b[38;5;241;43m=\u001b[39;49m\u001b[43mdst\u001b[49m\u001b[43m)\u001b[49m\n\u001b[1;32m    193\u001b[0m \u001b[38;5;28mself\u001b[39m\u001b[38;5;241m.\u001b[39mexcited_photon \u001b[38;5;241m=\u001b[39m photon\n",
      "Input \u001b[0;32mIn [13]\u001b[0m, in \u001b[0;36msource.get\u001b[0;34m(self, photon, **kwargs)\u001b[0m\n\u001b[1;32m     21\u001b[0m \u001b[38;5;28;01mdef\u001b[39;00m \u001b[38;5;21mget\u001b[39m(\u001b[38;5;28mself\u001b[39m, photon, \u001b[38;5;241m*\u001b[39m\u001b[38;5;241m*\u001b[39mkwargs):\n\u001b[0;32m---> 22\u001b[0m     \u001b[38;5;28;43mself\u001b[39;49m\u001b[38;5;241;43m.\u001b[39;49m\u001b[43msend_qubit\u001b[49m\u001b[43m(\u001b[49m\u001b[43mphoton\u001b[49m\u001b[43m)\u001b[49m\n",
      "\u001b[0;31mTypeError\u001b[0m: Node.send_qubit() missing 1 required positional argument: 'qubit'"
     ]
    }
   ],
   "source": [
    "tl.init()\n",
    "tl.run()\n",
    "print(\"sending count: {}\".format(my_source.counter.count))\n",
    "print(\"detection count: {}\".format(my_detector.counter.count))\n",
    "print(\"detection time: {} ps\".format(my_detector.counter.time))\n",
    "print(\"delay = L / c = {} ps\".format(1e3*1e12/(299792458)))\n",
    "from sequence.utils import log\n",
    "log.logger.debug(\"tets\")"
   ]
  },
  {
   "cell_type": "code",
   "execution_count": null,
   "id": "59f7a810",
   "metadata": {},
   "outputs": [],
   "source": []
  },
  {
   "cell_type": "code",
   "execution_count": null,
   "id": "e7282852",
   "metadata": {},
   "outputs": [],
   "source": []
  }
 ],
 "metadata": {
  "kernelspec": {
   "display_name": "Python 3 (ipykernel)",
   "language": "python",
   "name": "python3"
  },
  "language_info": {
   "codemirror_mode": {
    "name": "ipython",
    "version": 3
   },
   "file_extension": ".py",
   "mimetype": "text/x-python",
   "name": "python",
   "nbconvert_exporter": "python",
   "pygments_lexer": "ipython3",
   "version": "3.10.6"
  }
 },
 "nbformat": 4,
 "nbformat_minor": 5
}
