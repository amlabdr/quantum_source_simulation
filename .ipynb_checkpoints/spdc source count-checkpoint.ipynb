{
 "cells": [
  {
   "cell_type": "code",
   "execution_count": null,
   "id": "aef79a0d",
   "metadata": {},
   "outputs": [],
   "source": []
  },
  {
   "cell_type": "code",
   "execution_count": 88,
   "id": "01ea8e49",
   "metadata": {},
   "outputs": [],
   "source": [
    "from sequence.kernel.timeline import Timeline\n",
    "from sequence.topology.node import Node\n",
    "from sequence.components.light_source import SPDCSource\n",
    "from sequence.kernel.process import Process\n",
    "from sequence.kernel.event import Event\n",
    "from sequence.utils import log\n",
    "import logging\n",
    "logger = logging.getLogger()\n",
    "logger.setLevel(logging.DEBUG)\n",
    "\n",
    "\n",
    "class Counter:\n",
    "    def __init__(self):\n",
    "        self.count = 0\n",
    "        self.time = 0\n",
    "\n",
    "    def trigger(self, detector, info):\n",
    "        self.count += 1\n",
    "        self.time = info['time']\n",
    "        \n",
    "\n",
    "\n",
    "\n",
    "class SenderNode(Node):\n",
    "    def __init__(self, name, timeline):\n",
    "        super().__init__(name, timeline)\n",
    "        self.n_pairs = 0\n",
    "        \n",
    "        SPDCSource_name = name + \".spdcsource\"\n",
    "        self.spdcsource = SPDCSource(SPDCSource_name, timeline, frequency=8e7, mean_photon_num=5)\n",
    "        self.add_component(self.spdcsource)\n",
    "        \n",
    "        self.spdcsource.add_receiver(self)\n",
    "        self.spdcsource.add_receiver(self)\n",
    "        \n",
    "    def start(self, period,NUM_TRIALS):\n",
    "        states = [[[complex(1), complex(1)]]]\n",
    "        process1 = Process(self.spdcsource, \"emit\",states)\n",
    "        process2 = Process(self, \"init\",[self])\n",
    "        for i in range(NUM_TRIALS):\n",
    "            event1 = Event(i * period, process1)\n",
    "            event2 = Event(i * period + (period / 2), process2)\n",
    "            self.timeline.schedule(event1)\n",
    "            self.timeline.schedule(event2)\n",
    "    def init(self):\n",
    "        print(\"n_pairs of photon count: {}\".format(self.n_pairs))\n",
    "        self.n_pairs = 0\n",
    "\n",
    "\n",
    "\n",
    "    def get(self, photon: \"Photon\", **kwargs):\n",
    "        self.n_pairs +=1\n",
    "\n"
   ]
  },
  {
   "cell_type": "code",
   "execution_count": 89,
   "id": "e7de8c97",
   "metadata": {},
   "outputs": [
    {
     "name": "stderr",
     "output_type": "stream",
     "text": [
      "INFO:sequence.utils.log:Create Node my_source\n"
     ]
    }
   ],
   "source": [
    "from sequence.kernel.timeline import Timeline\n",
    "tl = Timeline(1e12) #1 seconds in picosecond\n",
    "my_source = SenderNode(\"my_source\",tl)\n",
    "my_source.set_seed(0)"
   ]
  },
  {
   "cell_type": "code",
   "execution_count": 90,
   "id": "1e8e0bdd",
   "metadata": {},
   "outputs": [
    {
     "name": "stderr",
     "output_type": "stream",
     "text": [
      "INFO:sequence.utils.log:Timeline initial network\n"
     ]
    },
    {
     "name": "stdout",
     "output_type": "stream",
     "text": [
      "n_pairs of photon count: 0\n"
     ]
    },
    {
     "ename": "AttributeError",
     "evalue": "'SenderNode' object has no attribute 'own'",
     "output_type": "error",
     "traceback": [
      "\u001b[0;31m---------------------------------------------------------------------------\u001b[0m",
      "\u001b[0;31mAttributeError\u001b[0m                            Traceback (most recent call last)",
      "Input \u001b[0;32mIn [90]\u001b[0m, in \u001b[0;36m<cell line: 5>\u001b[0;34m()\u001b[0m\n\u001b[1;32m      3\u001b[0m tl\u001b[38;5;241m.\u001b[39minit()\n\u001b[1;32m      4\u001b[0m period \u001b[38;5;241m=\u001b[39m \u001b[38;5;28mint\u001b[39m(\u001b[38;5;241m1e12\u001b[39m \u001b[38;5;241m/\u001b[39m FREQUENCY)\n\u001b[0;32m----> 5\u001b[0m \u001b[43mmy_source\u001b[49m\u001b[38;5;241;43m.\u001b[39;49m\u001b[43mstart\u001b[49m\u001b[43m(\u001b[49m\u001b[43mperiod\u001b[49m\u001b[43m,\u001b[49m\u001b[43mNUM_TRIALS\u001b[49m\u001b[43m)\u001b[49m\n\u001b[1;32m      6\u001b[0m tl\u001b[38;5;241m.\u001b[39mrun()\n\u001b[1;32m      8\u001b[0m \u001b[38;5;66;03m#print(\"sending count: {}\".format(my_source.counter.count))\u001b[39;00m\n",
      "Input \u001b[0;32mIn [88]\u001b[0m, in \u001b[0;36mSenderNode.start\u001b[0;34m(self, period, NUM_TRIALS)\u001b[0m\n\u001b[1;32m     42\u001b[0m event2 \u001b[38;5;241m=\u001b[39m Event(i \u001b[38;5;241m*\u001b[39m period \u001b[38;5;241m+\u001b[39m (period \u001b[38;5;241m/\u001b[39m \u001b[38;5;241m2\u001b[39m), process2)\n\u001b[1;32m     43\u001b[0m \u001b[38;5;28mself\u001b[39m\u001b[38;5;241m.\u001b[39mtimeline\u001b[38;5;241m.\u001b[39mschedule(event1)\n\u001b[0;32m---> 44\u001b[0m \u001b[38;5;28;43mself\u001b[39;49m\u001b[38;5;241;43m.\u001b[39;49m\u001b[43mown\u001b[49m\u001b[38;5;241m.\u001b[39mtimeline\u001b[38;5;241m.\u001b[39mschedule(event2)\n",
      "\u001b[0;31mAttributeError\u001b[0m: 'SenderNode' object has no attribute 'own'"
     ]
    }
   ],
   "source": [
    "FREQUENCY = 1e9\n",
    "NUM_TRIALS= 10\n",
    "tl.init()\n",
    "period = int(1e12 / FREQUENCY)\n",
    "my_source.start(period,NUM_TRIALS)\n",
    "tl.run()\n",
    "\n",
    "#print(\"sending count: {}\".format(my_source.counter.count))\n",
    "print(\"n_pairs of photon count: {}\".format(my_source.n_pairs))\n",
    "#print(\"detection count: {}\".format(my_detector.counter.count))\n",
    "#print(\"detection time: {} ps\".format(my_source.counter.time))\n",
    "#print(\"delay = L / c = {} ps\".format(1e3*1e12/(299792458)))"
   ]
  },
  {
   "cell_type": "code",
   "execution_count": null,
   "id": "084274cf",
   "metadata": {},
   "outputs": [],
   "source": []
  },
  {
   "cell_type": "code",
   "execution_count": null,
   "id": "1f0c6a96",
   "metadata": {},
   "outputs": [],
   "source": []
  }
 ],
 "metadata": {
  "kernelspec": {
   "display_name": "Python 3 (ipykernel)",
   "language": "python",
   "name": "python3"
  },
  "language_info": {
   "codemirror_mode": {
    "name": "ipython",
    "version": 3
   },
   "file_extension": ".py",
   "mimetype": "text/x-python",
   "name": "python",
   "nbconvert_exporter": "python",
   "pygments_lexer": "ipython3",
   "version": "3.10.6"
  }
 },
 "nbformat": 4,
 "nbformat_minor": 5
}
