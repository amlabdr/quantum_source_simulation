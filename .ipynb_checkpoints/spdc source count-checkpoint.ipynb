{
 "cells": [
  {
   "cell_type": "code",
   "execution_count": 75,
   "id": "3e2dac9d",
   "metadata": {},
   "outputs": [],
   "source": [
    "from ipywidgets import interact\n",
    "import pandas as pd\n",
    "import matplotlib.pyplot as plt\n",
    "import numpy as np\n",
    "import time"
   ]
  },
  {
   "cell_type": "code",
   "execution_count": 128,
   "id": "a59c37c7",
   "metadata": {},
   "outputs": [],
   "source": [
    "from sequence.kernel.timeline import Timeline\n",
    "from sequence.topology.node import Node\n",
    "from sequence.components.light_source import SPDCSource\n",
    "from sequence.kernel.process import Process\n",
    "from sequence.kernel.event import Event\n",
    "from sequence.utils import log\n",
    "import logging\n",
    "logger = logging.getLogger()\n",
    "from sequence.kernel.timeline import Timeline\n",
    "#logger.setLevel(logging.DEBUG)\n",
    "\n",
    "\n",
    "class Counter:\n",
    "    def __init__(self):\n",
    "        self.count = 0\n",
    "        self.time = 0\n",
    "\n",
    "    def trigger(self, detector, info):\n",
    "        self.count += 1\n",
    "        self.time = info['time']\n",
    "        \n",
    "\n",
    "\n",
    "\n",
    "class SenderNode(Node):\n",
    "    def __init__(self, name, timeline):\n",
    "        super().__init__(name, timeline)\n",
    "        self.n_pairs = 0\n",
    "        \n",
    "        SPDCSource_name = name + \".spdcsource\"\n",
    "        self.spdcsource = SPDCSource(SPDCSource_name, timeline, frequency=8e7, mean_photon_num=5)\n",
    "        self.add_component(self.spdcsource)\n",
    "        \n",
    "        self.spdcsource.add_receiver(self)\n",
    "        self.spdcsource.add_receiver(self)\n",
    "        self.periods = []\n",
    "        self.counts = []\n",
    "        \n",
    "    def start(self, period,NUM_TRIALS):\n",
    "        states = [[[complex(1), complex(1)]]]\n",
    "        process1 = Process(self.spdcsource, \"emit\",states)\n",
    "        process2 = Process(self, \"init_counter\",[])\n",
    "        for i in range(NUM_TRIALS):\n",
    "            event1 = Event(i * period, process1)\n",
    "            event2 = Event(i * period + 0.9*period, process2)\n",
    "            self.periods.append(i * period)\n",
    "            \n",
    "            self.timeline.schedule(event1)\n",
    "            self.timeline.schedule(event2)\n",
    "    def init_counter(self):\n",
    "        self.counts.append(self.n_pairs//2)\n",
    "        self.n_pairs = 0\n",
    "\n",
    "\n",
    "\n",
    "    def get(self, photon: \"Photon\", **kwargs):\n",
    "        self.n_pairs +=1\n",
    "\n",
    "\n",
    "        \n",
    "def test(sim_time,mean_photon_num,nb_of_trials):\n",
    "    PS_PER_MS = 1e9\n",
    "    \n",
    "    tl = Timeline(sim_time * PS_PER_MS)\n",
    "    my_source = SenderNode(\"my_source\",tl)\n",
    "    my_source.set_seed(0)\n",
    "    FREQUENCY = 1e9\n",
    "    NUM_TRIALS= nb_of_trials\n",
    "    my_source.spdcsource.mean_photon_num = mean_photon_num\n",
    "    tl.init()\n",
    "    period = int(1e12 / FREQUENCY)\n",
    "    my_source.start(period,NUM_TRIALS)\n",
    "    tl.run()\n",
    "    \n",
    "    plt.figure()\n",
    "    \n",
    "    x=my_source.periods\n",
    "    y=my_source.counts\n",
    "    \n",
    "    plt.plot(x,y)\n",
    "    #plt.plot(data,range(1, len(data) + 1),marker ='x')\n",
    "    df = pd.DataFrame({\"period\": x, \"counts\":y})\n",
    "    \n",
    "    data_count = df[[\"counts\"]].apply(pd.value_counts)\n",
    "    \n",
    "    \n",
    "    data_count.sort_index().plot(kind=\"bar\")\n",
    "    plt.show()"
   ]
  },
  {
   "cell_type": "code",
   "execution_count": 129,
   "id": "7b4b0d2e",
   "metadata": {},
   "outputs": [
    {
     "data": {
      "application/vnd.jupyter.widget-view+json": {
       "model_id": "714d8801aa994fa8a9c8137fd87e6d87",
       "version_major": 2,
       "version_minor": 0
      },
      "text/plain": [
       "interactive(children=(IntSlider(value=500, description='sim_time', max=1000, min=100, step=100), IntSlider(val…"
      ]
     },
     "metadata": {},
     "output_type": "display_data"
    },
    {
     "data": {
      "text/plain": [
       "<function __main__.test(sim_time, mean_photon_num, nb_of_trials)>"
      ]
     },
     "execution_count": 129,
     "metadata": {},
     "output_type": "execute_result"
    }
   ],
   "source": [
    "interactive_plot = interact(test, sim_time=(100, 1000, 100),mean_photon_num=(0, 10, 1), nb_of_trials=(0, 500, 1))\n",
    "interactive_plot"
   ]
  },
  {
   "cell_type": "code",
   "execution_count": null,
   "id": "6231c7bf",
   "metadata": {},
   "outputs": [],
   "source": []
  }
 ],
 "metadata": {
  "kernelspec": {
   "display_name": "Python 3 (ipykernel)",
   "language": "python",
   "name": "python3"
  },
  "language_info": {
   "codemirror_mode": {
    "name": "ipython",
    "version": 3
   },
   "file_extension": ".py",
   "mimetype": "text/x-python",
   "name": "python",
   "nbconvert_exporter": "python",
   "pygments_lexer": "ipython3",
   "version": "3.10.6"
  }
 },
 "nbformat": 4,
 "nbformat_minor": 5
}
