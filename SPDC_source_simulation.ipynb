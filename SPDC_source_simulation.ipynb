{
 "cells": [
  {
   "cell_type": "markdown",
   "id": "aeafae12",
   "metadata": {},
   "source": [
    "# SPDC Source Simulation\n",
    "## The source node\n",
    "This example will simulate the laser light source for entangled photons (via SPDC).\n",
    "\n",
    "The SPDCLightSource component acts as a simple low intensity laser with an SPDC lens. It provides entangled photon clusters at a set frequency.\n",
    "\n",
    "\n",
    "Attributes:\n",
    "        name (str): label for the source instance\n",
    "        timeline (Timeline): timeline for simulation\n",
    "        frequency (float): frequency (in Hz) of photon creation.\n",
    "        wavelengths (List[float]): wavelengths (in nm) of emitted entangled photons.\n",
    "        linewidth (float): st. dev. in photon wavelength (in nm) (currently unused).\n",
    "        mean_photon_num (float): mean number of photons emitted each period.\n",
    "        encoding_type (Dict): encoding scheme of emitted photons (as defined in the encoding module).\n",
    "        phase_error (float): phase error applied to qubits.\n",
    "\n"
   ]
  },
  {
   "cell_type": "code",
   "execution_count": 8,
   "id": "35c61a52",
   "metadata": {},
   "outputs": [],
   "source": [
    "from sequence.kernel.timeline import Timeline\n",
    "from sequence.topology.node import Node\n",
    "from sequence.components.light_source import SPDCSource\n",
    "from sequence.components.detector import Detector\n",
    "from sequence.utils.encoding import polarization\n",
    "\n",
    "from sequence.utils import log\n",
    "\n",
    "\n",
    "\n",
    "class SenderNode(Node):\n",
    "    def __init__(self, name, timeline):\n",
    "        super().__init__(name, timeline)\n",
    "        \n",
    "        SPDCSource_name = name + \".spdcsource\"\n",
    "        spdcsource = SPDCSource(SPDCSource_name, timeline,wavelengths=[1000, 500], frequency=8e7, mean_photon_num=1,\n",
    "                  )\n",
    "        self.add_component(spdcsource)\n",
    "        \n",
    "        self.counter = Counter()\n",
    "        spdcsource.attach(self.counter)\n",
    "        spdcsource.add_receiver(self)\n",
    "        spdcsource.add_receiver(self)\n",
    "        #print(spdcsource._receivers)\n",
    "        \n",
    "\n",
    "    def get(self, photon: \"Photon\", **kwargs):\n",
    "        #print(self.qchannels)\n",
    "        for dst in self.qchannels:\n",
    "            self.send_qubit(dst, photon)\n",
    "        \n",
    "        # from memory: send to destination (measurement) node\n",
    "        \n",
    "        #self.send_qubit(kwargs['dst'], photon)\n",
    "    \n",
    "        \n",
    "class Counter:\n",
    "    def __init__(self):\n",
    "        self.count = 0\n",
    "        self.time = 0\n",
    "\n",
    "    def trigger(self, detector, info):\n",
    "        self.count += 1\n",
    "        self.time = info['time']\n",
    "        \n",
    "class ReceiverNode(Node):\n",
    "    def __init__(self, name, timeline):\n",
    "        super().__init__(name, timeline)\n",
    "\n",
    "        detector_name = name + \".detector\"\n",
    "        detector = Detector(detector_name, timeline, efficiency=1)\n",
    "        self.add_component(detector)\n",
    "        self.set_first_component(detector_name)\n",
    "        detector.owner = self\n",
    "\n",
    "        self.counter = Counter()\n",
    "        detector.attach(self.counter)\n",
    "\n",
    "    def receive_qubit(self, src, qubit):\n",
    "        self.components[self.first_component_name].get()\n",
    "\n",
    "        "
   ]
  },
  {
   "cell_type": "markdown",
   "id": "4409e160",
   "metadata": {},
   "source": [
    "## Build the Network.\n",
    "We are now ready to start writing the main function of our script. The first step is to create the simulation timeline. We will use a 10 second run time, but more or less time may be needed depending on hardware parameters. Note that the runtime is given in picoseconds. \n",
    "Then we will need to create the source node by specifying a name and the timeline it belongs to."
   ]
  },
  {
   "cell_type": "code",
   "execution_count": 7,
   "id": "c1123120",
   "metadata": {},
   "outputs": [
    {
     "name": "stderr",
     "output_type": "stream",
     "text": [
      "INFO:sequence.utils.log:Create Node my_source\n",
      "INFO:sequence.utils.log:Create Node my_detector\n",
      "INFO:sequence.utils.log:Create Node my_detector2\n",
      "INFO:sequence.utils.log:Create channel qc\n",
      "INFO:sequence.utils.log:Create channel qc2\n",
      "INFO:sequence.utils.log:Set my_source my_detector as ends of quantum channel qc\n",
      "INFO:sequence.utils.log:Set my_source my_detector2 as ends of quantum channel qc2\n"
     ]
    }
   ],
   "source": [
    "from sequence.kernel.timeline import Timeline\n",
    "tl = Timeline(10e12) #10 seconds in picosecond\n",
    "\n",
    "my_source = SenderNode(\"my_source\",tl)\n",
    "my_detector = ReceiverNode(\"my_detector\",tl)\n",
    "my_detector2 = ReceiverNode(\"my_detector2\",tl)\n",
    "\n",
    "#Note that we also set the random generator seed for our node to ensure reproducability.\n",
    "my_source.set_seed(0)\n",
    "my_detector.set_seed(1) \n",
    "my_detector2.set_seed(1) \n",
    "\n",
    "#create the quantum channel and note that We won’t need a classical channel,\n",
    "#as we’re not sending any messages between nodes.\n",
    "from sequence.components.optical_channel import QuantumChannel\n",
    "\n",
    "qc = QuantumChannel(\"qc\", tl, attenuation=0, distance=1e3)\n",
    "qc2 = QuantumChannel(\"qc2\", tl, attenuation=0, distance=1e3)\n",
    "qc.set_ends(my_source, my_detector.name)\n",
    "qc2.set_ends(my_source, my_detector2.name)\n",
    "\n",
    "\n"
   ]
  },
  {
   "cell_type": "markdown",
   "id": "3ed64c8b",
   "metadata": {},
   "source": [
    "# Measure the Memory Once\n",
    "With the network built, we are ready to schedule simulation events and run our experiment. The details on scheduling events are covered in Tutorial 1, so we will not focus on them here. Let’s first run one experiment with the memory in the |↑⟩ state and observe the detection time of the single emitted photon. We can obtain the memory object using the Node.get_components_by_type method, which returns a list of matching components on the node. The memory state can then be set with the update_state method."
   ]
  },
  {
   "cell_type": "code",
   "execution_count": 3,
   "id": "2d2c6aaa",
   "metadata": {},
   "outputs": [],
   "source": [
    "spdcsource = my_source.get_components_by_type(\"SPDCSource\")\n",
    "#detector = my_detector.get_components_by_type(\"Detector\")\n",
    "#detector2 = my_detector2.get_components_by_type(\"Detector\")\n",
    "#spdcsource[0].add_receiver(detector[0])\n",
    "#spdcsource[0].add_receiver(detector2[0])\n",
    "\n",
    "#spdcsource[0].add_receiver(qc)\n",
    "#spdcsource[0].add_receiver(qc)\n",
    "\n",
    "\n",
    "\n",
    "\n",
    "\n",
    "\n",
    "#memory = memories[0]\n",
    "#memory.update_state([complex(0), complex(1)])\n",
    "\n",
    "\n"
   ]
  },
  {
   "cell_type": "markdown",
   "id": "fe883270",
   "metadata": {},
   "source": [
    "We must also schedule an excite event for the memory, which will send a photon to a connected node supplied as an argument (in this case, we’ll use \"node2\"). Let’s put it at time 0:"
   ]
  },
  {
   "cell_type": "code",
   "execution_count": 4,
   "id": "8821e711",
   "metadata": {},
   "outputs": [],
   "source": [
    "from sequence.kernel.process import Process\n",
    "from sequence.kernel.event import Event\n",
    "states = [[[complex(1), complex(1)]]]\n",
    "#states = [[complex(1), complex(1)]]\n",
    "process = Process(spdcsource[0], \"emit\",states)\n",
    "event = Event(0, process)\n",
    "tl.schedule(event)\n",
    "\n",
    "\n"
   ]
  },
  {
   "cell_type": "code",
   "execution_count": 5,
   "id": "0121ea31",
   "metadata": {},
   "outputs": [
    {
     "name": "stderr",
     "output_type": "stream",
     "text": [
      "INFO:sequence.utils.log:Timeline initial network\n",
      "INFO:sequence.utils.log:Timeline start simulation\n",
      "INFO:sequence.utils.log:SPDC sourcee my_source.spdcsource emitting 1 photons\n",
      "DEBUG:sequence.utils.log:SPDC source my_source.spdcsource sending photons to [<__main__.SenderNode object at 0x10829a7a0>, <__main__.SenderNode object at 0x10829a7a0>] at time 0\n",
      "INFO:sequence.utils.log:my_source send qubit with state Keys:\n",
      "[]\n",
      "State:\n",
      "((1+0j), 0j, 0j, (1+0j)) to my_detector by Channel qc\n",
      "INFO:sequence.utils.log:my_source send qubit with state Keys:\n",
      "[]\n",
      "State:\n",
      "((1+0j), 0j, 0j, (1+0j)) to my_detector2 by Channel qc2\n",
      "INFO:sequence.utils.log:my_source send qubit with state Keys:\n",
      "[]\n",
      "State:\n",
      "((1+0j), 0j, 0j, (1+0j)) to my_detector by Channel qc\n",
      "INFO:sequence.utils.log:my_source send qubit with state Keys:\n",
      "[]\n",
      "State:\n",
      "((1+0j), 0j, 0j, (1+0j)) to my_detector2 by Channel qc2\n",
      "INFO:sequence.utils.log:Timeline end simulation. Execution Time: 3935000 ns; Scheduled Event: 7; Executed Event: 7\n"
     ]
    },
    {
     "name": "stdout",
     "output_type": "stream",
     "text": [
      "sending count: 0\n",
      "detection count: 1\n",
      "detection time: 4999950 ps\n",
      "delay = L / c = 3335640.9519815203 ps\n"
     ]
    }
   ],
   "source": [
    "import logging\n",
    "logger = logging.getLogger()\n",
    "logger.setLevel(logging.DEBUG)\n",
    "\n",
    "\n",
    "tl.init()\n",
    "tl.run()\n",
    "\n",
    "print(\"sending count: {}\".format(my_source.counter.count))\n",
    "print(\"detection count: {}\".format(my_detector.counter.count))\n",
    "print(\"detection time: {} ps\".format(my_detector.counter.time))\n",
    "print(\"delay = L / c = {} ps\".format(1e3*1e12/(299792458)))\n",
    "\n",
    "\n",
    "\n"
   ]
  },
  {
   "cell_type": "code",
   "execution_count": 11,
   "id": "77523ce6",
   "metadata": {},
   "outputs": [
    {
     "name": "stderr",
     "output_type": "stream",
     "text": [
      "DEBUG:root:test\n",
      "ERROR:root:msg Rejected\n"
     ]
    }
   ],
   "source": [
    "import logging\n",
    "logger = logging.getLogger()\n",
    "logger.setLevel(logging.DEBUG)\n",
    "logging.debug(\"test\")\n",
    "logging.error(\"msg Rejected\")"
   ]
  },
  {
   "cell_type": "code",
   "execution_count": null,
   "id": "475562d0",
   "metadata": {},
   "outputs": [],
   "source": []
  },
  {
   "cell_type": "code",
   "execution_count": null,
   "id": "00a5e87c",
   "metadata": {},
   "outputs": [],
   "source": []
  }
 ],
 "metadata": {
  "kernelspec": {
   "display_name": "Python 3 (ipykernel)",
   "language": "python",
   "name": "python3"
  },
  "language_info": {
   "codemirror_mode": {
    "name": "ipython",
    "version": 3
   },
   "file_extension": ".py",
   "mimetype": "text/x-python",
   "name": "python",
   "nbconvert_exporter": "python",
   "pygments_lexer": "ipython3",
   "version": "3.10.6"
  }
 },
 "nbformat": 4,
 "nbformat_minor": 5
}
