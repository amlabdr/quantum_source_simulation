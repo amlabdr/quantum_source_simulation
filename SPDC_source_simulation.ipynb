{
 "cells": [
  {
   "cell_type": "markdown",
   "id": "aeafae12",
   "metadata": {},
   "source": [
    "# SPDC Source Simulation\n",
    "## The source node\n",
    "This example will simulate the laser light source for entangled photons (via SPDC).\n",
    "\n",
    "The SPDCLightSource component acts as a simple low intensity laser with an SPDC lens. It provides entangled photon clusters at a set frequency.\n",
    "\n",
    "\n",
    "Attributes:\n",
    "        name (str): label for the source instance\n",
    "        timeline (Timeline): timeline for simulation\n",
    "        frequency (float): frequency (in Hz) of photon creation.\n",
    "        wavelengths (List[float]): wavelengths (in nm) of emitted entangled photons.\n",
    "        linewidth (float): st. dev. in photon wavelength (in nm) (currently unused).\n",
    "        mean_photon_num (float): mean number of photons emitted each period.\n",
    "        encoding_type (Dict): encoding scheme of emitted photons (as defined in the encoding module).\n",
    "        phase_error (float): phase error applied to qubits.\n",
    "\n"
   ]
  },
  {
   "cell_type": "code",
   "execution_count": 10,
   "id": "35c61a52",
   "metadata": {},
   "outputs": [],
   "source": [
    "from sequence.kernel.timeline import Timeline\n",
    "from sequence.topology.node import Node\n",
    "from sequence.components.memory import Memory\n",
    "\n",
    "class source(Node):\n",
    "    def __init__(self, name, timeline):\n",
    "        super().__init__(name, timeline)\n",
    "        \n",
    "        memory_name = name + \".memory\"\n",
    "        memory = Memory(memory_name, timeline, fidelity=1, frequency=0,\n",
    "                        efficiency=1, coherence_time=0, wavelength=500)\n",
    "        self.add_component(memory)\n",
    "        memory.add_receiver(self)\n",
    "\n",
    "    def get(self, photon, **kwargs):\n",
    "        self.send_qubit(kwargs['dst'], photon)\n",
    "        \n",
    "class Counter:\n",
    "    def __init__(self):\n",
    "        self.count = 0\n",
    "        self.time = 0\n",
    "\n",
    "    def trigger(self, detector, info):\n",
    "        self.count += 1\n",
    "        self.time = info['time']\n",
    "        \n",
    "class receiver(Node):\n",
    "    def __init__(self, name, timeline):\n",
    "        super().__init__(name, timeline)\n",
    "\n",
    "        detector_name = name + \".detector\"\n",
    "        detector = Detector(detector_name, timeline, efficiency=1)\n",
    "        self.add_component(detector)\n",
    "        self.set_first_component(detector_name)\n",
    "        detector.owner = self\n",
    "\n",
    "        self.counter = Counter()\n",
    "        detector.attach(self.counter)\n",
    "\n",
    "    def receive_qubit(self, src, qubit):\n",
    "        self.components[self.first_component_name].get()\n"
   ]
  },
  {
   "cell_type": "markdown",
   "id": "a08105c1",
   "metadata": {},
   "source": [
    "## Build the Network.\n",
    "We are now ready to start writing the main function of our script. The first step is to create the simulation timeline. We will use a 10 second run time, but more or less time may be needed depending on hardware parameters. Note that the runtime is given in picoseconds. \n",
    "Then we will need to create the source node by specifying a name and the timeline it belongs to."
   ]
  },
  {
   "cell_type": "code",
   "execution_count": 42,
   "id": "b6804dc4",
   "metadata": {},
   "outputs": [],
   "source": [
    "from sequence.kernel.timeline import Timeline\n",
    "tl = Timeline(10e12) #10 seconds in picosecond\n",
    "\n",
    "my_source = source(\"my_source\",tl)\n",
    "my_detector = receiver(\"my_detector\",tl)\n",
    "#Note that we also set the random generator seed for our node to ensure reproducability.\n",
    "my_source.set_seed(0)\n",
    "my_detector.set_seed(1) \n",
    "\n",
    "#create the quantum channel and note that We won’t need a classical channel,\n",
    "#as we’re not sending any messages between nodes.\n",
    "from sequence.components.optical_channel import QuantumChannel\n",
    "\n",
    "qc = QuantumChannel(\"qc\", tl, attenuation=0, distance=1e3)\n",
    "qc.set_ends(my_source, my_detector.name)"
   ]
  },
  {
   "cell_type": "markdown",
   "id": "2fe04787",
   "metadata": {},
   "source": [
    "# Measure the Memory Once\n",
    "With the network built, we are ready to schedule simulation events and run our experiment. The details on scheduling events are covered in Tutorial 1, so we will not focus on them here. Let’s first run one experiment with the memory in the |↑⟩ state and observe the detection time of the single emitted photon. We can obtain the memory object using the Node.get_components_by_type method, which returns a list of matching components on the node. The memory state can then be set with the update_state method."
   ]
  },
  {
   "cell_type": "code",
   "execution_count": 48,
   "id": "0113257f",
   "metadata": {},
   "outputs": [],
   "source": [
    "memories = my_source.get_components_by_type(\"Memory\")\n",
    "memory = memories[0]\n",
    "memory.update_state([complex(0), complex(1)])"
   ]
  },
  {
   "cell_type": "markdown",
   "id": "ed602941",
   "metadata": {},
   "source": [
    "We must also schedule an excite event for the memory, which will send a photon to a connected node supplied as an argument (in this case, we’ll use \"node2\"). Let’s put it at time 0:"
   ]
  },
  {
   "cell_type": "code",
   "execution_count": 44,
   "id": "dedae5b4",
   "metadata": {},
   "outputs": [],
   "source": [
    "from sequence.kernel.process import Process\n",
    "from sequence.kernel.event import Event\n",
    "\n",
    "process = Process(memory, \"excite\", [\"my_detector\"])\n",
    "event = Event(0, process)\n",
    "tl.schedule(event)"
   ]
  },
  {
   "cell_type": "code",
   "execution_count": 47,
   "id": "b0d9ba11",
   "metadata": {},
   "outputs": [
    {
     "name": "stdout",
     "output_type": "stream",
     "text": [
      "detection count: 1\n",
      "detection time: 4999950 ps\n",
      "delay = L / c = 3335640.9519815203 ps\n"
     ]
    }
   ],
   "source": [
    "tl.init()\n",
    "tl.run()\n",
    "print(\"detection count: {}\".format(my_detector.counter.count))\n",
    "print(\"detection time: {} ps\".format(my_detector.counter.time))\n",
    "print(\"delay = L / c = {} ps\".format(1e3*1e12/(299792458)))"
   ]
  },
  {
   "cell_type": "code",
   "execution_count": null,
   "id": "5f558500",
   "metadata": {},
   "outputs": [],
   "source": []
  },
  {
   "cell_type": "code",
   "execution_count": null,
   "id": "e48b3295",
   "metadata": {},
   "outputs": [],
   "source": []
  }
 ],
 "metadata": {
  "kernelspec": {
   "display_name": "Python 3 (ipykernel)",
   "language": "python",
   "name": "python3"
  },
  "language_info": {
   "codemirror_mode": {
    "name": "ipython",
    "version": 3
   },
   "file_extension": ".py",
   "mimetype": "text/x-python",
   "name": "python",
   "nbconvert_exporter": "python",
   "pygments_lexer": "ipython3",
   "version": "3.10.6"
  }
 },
 "nbformat": 4,
 "nbformat_minor": 5
}
