{
 "cells": [
  {
   "cell_type": "code",
   "execution_count": null,
   "id": "326b8b22",
   "metadata": {},
   "outputs": [],
   "source": []
  },
  {
   "cell_type": "code",
   "execution_count": 7,
   "id": "f6ce0d5d",
   "metadata": {},
   "outputs": [
    {
     "name": "stdout",
     "output_type": "stream",
     "text": [
      "n_pairs of photon count: 0\n",
      "n_pairs of photon count: 0\n",
      "n_pairs of photon count: 6\n",
      "n_pairs of photon count: 12\n",
      "n_pairs of photon count: 4\n",
      "n_pairs of photon count: 6\n",
      "n_pairs of photon count: 20\n",
      "n_pairs of photon count: 14\n",
      "n_pairs of photon count: 10\n",
      "n_pairs of photon count: 8\n",
      "n_pairs of photon count: 6\n",
      "n_pairs of photon count: 6\n"
     ]
    }
   ],
   "source": [
    "from sequence.kernel.timeline import Timeline\n",
    "from sequence.topology.node import Node\n",
    "from sequence.components.light_source import SPDCSource\n",
    "from sequence.kernel.process import Process\n",
    "from sequence.kernel.event import Event\n",
    "from sequence.utils import log\n",
    "import logging\n",
    "logger = logging.getLogger()\n",
    "#logger.setLevel(logging.DEBUG)\n",
    "\n",
    "\n",
    "class Counter:\n",
    "    def __init__(self):\n",
    "        self.count = 0\n",
    "        self.time = 0\n",
    "\n",
    "    def trigger(self, detector, info):\n",
    "        self.count += 1\n",
    "        self.time = info['time']\n",
    "        \n",
    "\n",
    "\n",
    "\n",
    "class SenderNode(Node):\n",
    "    def __init__(self, name, timeline):\n",
    "        super().__init__(name, timeline)\n",
    "        self.n_pairs = 0\n",
    "        \n",
    "        SPDCSource_name = name + \".spdcsource\"\n",
    "        self.spdcsource = SPDCSource(SPDCSource_name, timeline, frequency=8e7, mean_photon_num=5)\n",
    "        self.add_component(self.spdcsource)\n",
    "        \n",
    "        self.spdcsource.add_receiver(self)\n",
    "        self.spdcsource.add_receiver(self)\n",
    "        \n",
    "    def start(self, period,NUM_TRIALS):\n",
    "        states = [[[complex(1), complex(1)]]]\n",
    "        process1 = Process(self.spdcsource, \"emit\",states)\n",
    "        process2 = Process(self, \"init\",[])\n",
    "        for i in range(NUM_TRIALS):\n",
    "            event1 = Event(i * period, process1)\n",
    "            event2 = Event(i * period, process2)\n",
    "            self.timeline.schedule(event1)\n",
    "            self.timeline.schedule(event2)\n",
    "    def init(self):\n",
    "        print(\"n_pairs of photon count: {}\".format(self.n_pairs))\n",
    "        self.n_pairs = 0\n",
    "\n",
    "\n",
    "\n",
    "    def get(self, photon: \"Photon\", **kwargs):\n",
    "        self.n_pairs +=1\n",
    "\n",
    "\n",
    "        \n",
    "from sequence.kernel.timeline import Timeline\n",
    "tl = Timeline(1e12) #1 seconds in picosecond\n",
    "my_source = SenderNode(\"my_source\",tl)\n",
    "my_source.set_seed(0)\n",
    "FREQUENCY = 1e9\n",
    "NUM_TRIALS= 10\n",
    "tl.init()\n",
    "period = int(1e12 / FREQUENCY)\n",
    "my_source.start(period,NUM_TRIALS)\n",
    "tl.run()\n",
    "print(\"n_pairs of photon count: {}\".format(my_source.n_pairs))"
   ]
  },
  {
   "cell_type": "code",
   "execution_count": null,
   "id": "cc6fe879",
   "metadata": {},
   "outputs": [],
   "source": [
    "n_pairs of photon count: 0\n",
    "n_pairs of photon count: 6\n",
    "n_pairs of photon count: 12\n",
    "n_pairs of photon count: 4\n",
    "n_pairs of photon count: 6\n",
    "n_pairs of photon count: 20\n",
    "n_pairs of photon count: 14\n",
    "n_pairs of photon count: 10\n",
    "n_pairs of photon count: 8\n",
    "n_pairs of photon count: 6\n",
    "n_pairs of photon count: 6\n",
    "n_pairs of photon count: 0"
   ]
  },
  {
   "cell_type": "code",
   "execution_count": null,
   "id": "7afe383f",
   "metadata": {},
   "outputs": [],
   "source": []
  }
 ],
 "metadata": {
  "kernelspec": {
   "display_name": "Python 3 (ipykernel)",
   "language": "python",
   "name": "python3"
  },
  "language_info": {
   "codemirror_mode": {
    "name": "ipython",
    "version": 3
   },
   "file_extension": ".py",
   "mimetype": "text/x-python",
   "name": "python",
   "nbconvert_exporter": "python",
   "pygments_lexer": "ipython3",
   "version": "3.10.6"
  }
 },
 "nbformat": 4,
 "nbformat_minor": 5
}
